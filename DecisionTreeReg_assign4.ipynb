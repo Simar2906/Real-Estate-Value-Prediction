{
 "metadata": {
  "language_info": {
   "codemirror_mode": {
    "name": "ipython",
    "version": 3
   },
   "file_extension": ".py",
   "mimetype": "text/x-python",
   "name": "python",
   "nbconvert_exporter": "python",
   "pygments_lexer": "ipython3",
   "version": 3
  },
  "orig_nbformat": 2,
  "kernelspec": {
   "name": "python_defaultSpec_1595434316247",
   "display_name": "Python 3.8.0 64-bit"
  }
 },
 "nbformat": 4,
 "nbformat_minor": 2,
 "cells": [
  {
   "cell_type": "markdown",
   "metadata": {},
   "source": [
    "## Importing the Libraries"
   ]
  },
  {
   "cell_type": "code",
   "execution_count": 12,
   "metadata": {},
   "outputs": [],
   "source": [
    "import pandas as pd\n",
    "import numpy as np\n",
    "import matplotlib.pyplot as plt"
   ]
  },
  {
   "cell_type": "markdown",
   "metadata": {},
   "source": [
    "## Importing the DataSet"
   ]
  },
  {
   "cell_type": "code",
   "execution_count": 13,
   "metadata": {},
   "outputs": [],
   "source": [
    "dataset = pd.read_csv('datasets_88705_204267_Real estate.csv')\n",
    "X = dataset.iloc[:, 1:-1].values\n",
    "y = dataset.iloc[:, -1].values"
   ]
  },
  {
   "cell_type": "markdown",
   "metadata": {},
   "source": [
    "## Splitting the Dataset into Test Set and Train Set"
   ]
  },
  {
   "cell_type": "code",
   "execution_count": 14,
   "metadata": {},
   "outputs": [],
   "source": [
    "from sklearn.model_selection import train_test_split\n",
    "X_train, X_test, y_train, y_test = train_test_split(X, y, test_size = 0.2, random_state = 1)"
   ]
  },
  {
   "cell_type": "markdown",
   "metadata": {},
   "source": [
    "## Training Model on Train Set"
   ]
  },
  {
   "cell_type": "code",
   "execution_count": 15,
   "metadata": {},
   "outputs": [
    {
     "output_type": "execute_result",
     "data": {
      "text/plain": "DecisionTreeRegressor(random_state=0)"
     },
     "metadata": {},
     "execution_count": 15
    }
   ],
   "source": [
    "from sklearn.tree import DecisionTreeRegressor\n",
    "regressor = DecisionTreeRegressor(random_state = 0)\n",
    "regressor.fit(X_train, y_train)"
   ]
  },
  {
   "cell_type": "markdown",
   "metadata": {},
   "source": [
    "## Predicting values and Comparing with Test set"
   ]
  },
  {
   "cell_type": "code",
   "execution_count": 16,
   "metadata": {},
   "outputs": [],
   "source": [
    "y_pred = regressor.predict(X_test)"
   ]
  },
  {
   "cell_type": "code",
   "execution_count": 17,
   "metadata": {
    "tags": []
   },
   "outputs": [
    {
     "output_type": "stream",
     "name": "stdout",
     "text": "[[27.3  23.9 ]\n [54.4  50.7 ]\n [22.   24.7 ]\n [11.6  12.9 ]\n [45.4  71.  ]\n [23.   30.5 ]\n [21.8  27.7 ]\n [32.2  34.3 ]\n [37.4  25.  ]\n [22.6  18.8 ]\n [17.4  15.  ]\n [36.8  41.9 ]\n [23.1  25.3 ]\n [36.9  51.6 ]\n [56.3  52.7 ]\n [20.9  31.3 ]\n [43.5  70.1 ]\n [40.3  44.05]\n [27.7  29.5 ]\n [42.1  53.  ]\n [46.6  37.9 ]\n [21.8  29.5 ]\n [38.1  38.3 ]\n [53.7  52.7 ]\n [57.1  49.5 ]\n [26.6  26.5 ]\n [32.1  22.8 ]\n [56.8  55.5 ]\n [43.1  45.2 ]\n [16.7  12.8 ]\n [33.4  25.6 ]\n [34.2  40.8 ]\n [39.6  37.5 ]\n [52.5  51.8 ]\n [47.1  44.3 ]\n [13.   17.8 ]\n [37.5  35.5 ]\n [32.5  46.6 ]\n [42.3  43.2 ]\n [20.5  12.9 ]\n [40.3  40.3 ]\n [16.1  13.8 ]\n [58.1  59.  ]\n [33.4  30.7 ]\n [30.8  30.5 ]\n [21.7  28.9 ]\n [20.9  22.9 ]\n [42.5  39.3 ]\n [38.1  38.6 ]\n [39.6  38.8 ]\n [18.6  17.8 ]\n [44.3  78.3 ]\n [39.7  37.9 ]\n [15.4  17.8 ]\n [50.8  45.3 ]\n [36.3  42.  ]\n [52.2  70.1 ]\n [37.8  46.4 ]\n [26.5  25.  ]\n [42.5  40.5 ]\n [12.8  13.8 ]\n [32.9  37.3 ]\n [29.4  30.7 ]\n [19.2  17.8 ]\n [42.6  42.2 ]\n [32.4  41.9 ]\n [42.7  60.7 ]\n [42.3  43.1 ]\n [15.9  17.8 ]\n [43.9  42.2 ]\n [44.5  53.3 ]\n [15.5  15.6 ]\n [29.8  25.  ]\n [24.5  42.4 ]\n [50.   53.5 ]\n [37.2  26.9 ]\n [30.9  28.5 ]\n [37.   46.4 ]\n [33.1  29.3 ]\n [59.6  52.  ]\n [40.8  44.9 ]\n [52.2  37.9 ]\n [47.1  46.1 ]]\n"
    }
   ],
   "source": [
    "print(np.concatenate((y_test.reshape(len(y_test), 1), y_pred.reshape(len(y_pred), 1)), 1))"
   ]
  },
  {
   "cell_type": "code",
   "execution_count": null,
   "metadata": {},
   "outputs": [],
   "source": []
  }
 ]
}