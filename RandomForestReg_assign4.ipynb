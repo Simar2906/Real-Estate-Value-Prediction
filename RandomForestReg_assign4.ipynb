{
 "metadata": {
  "language_info": {
   "codemirror_mode": {
    "name": "ipython",
    "version": 3
   },
   "file_extension": ".py",
   "mimetype": "text/x-python",
   "name": "python",
   "nbconvert_exporter": "python",
   "pygments_lexer": "ipython3",
   "version": 3
  },
  "orig_nbformat": 2,
  "kernelspec": {
   "name": "python_defaultSpec_1595434621349",
   "display_name": "Python 3.8.0 64-bit"
  }
 },
 "nbformat": 4,
 "nbformat_minor": 2,
 "cells": [
  {
   "cell_type": "markdown",
   "metadata": {},
   "source": [
    "## Importing the Libraries"
   ]
  },
  {
   "cell_type": "code",
   "execution_count": 1,
   "metadata": {},
   "outputs": [],
   "source": [
    "import pandas as pd\n",
    "import numpy as np\n",
    "import matplotlib.pyplot as plt"
   ]
  },
  {
   "cell_type": "markdown",
   "metadata": {},
   "source": [
    "## Importing the Data Set"
   ]
  },
  {
   "cell_type": "code",
   "execution_count": 2,
   "metadata": {},
   "outputs": [],
   "source": [
    "dataset = pd.read_csv('datasets_88705_204267_Real estate.csv')\n",
    "X = dataset.iloc[:, 1:-1].values\n",
    "y = dataset.iloc[:, -1].values"
   ]
  },
  {
   "cell_type": "markdown",
   "metadata": {},
   "source": [
    "## Splitting Data Set into Test Set and Train Set"
   ]
  },
  {
   "cell_type": "code",
   "execution_count": 3,
   "metadata": {},
   "outputs": [],
   "source": [
    "from sklearn.model_selection import train_test_split\n",
    "X_train, X_test, y_train, y_test = train_test_split(X, y, test_size = 0.2, random_state = 1)"
   ]
  },
  {
   "cell_type": "markdown",
   "metadata": {},
   "source": [
    "## Training Random Forest Regression on Train Set"
   ]
  },
  {
   "cell_type": "code",
   "execution_count": 4,
   "metadata": {},
   "outputs": [
    {
     "output_type": "execute_result",
     "data": {
      "text/plain": "RandomForestRegressor(n_estimators=10, random_state=0)"
     },
     "metadata": {},
     "execution_count": 4
    }
   ],
   "source": [
    "from sklearn.ensemble import RandomForestRegressor\n",
    "regressor = RandomForestRegressor(n_estimators=10, random_state=0)\n",
    "regressor.fit(X_train, y_train)"
   ]
  },
  {
   "cell_type": "markdown",
   "metadata": {},
   "source": [
    "## Predicting Values and Comparing with Test Set and Train Set"
   ]
  },
  {
   "cell_type": "code",
   "execution_count": 5,
   "metadata": {},
   "outputs": [],
   "source": [
    "y_pred = regressor.predict(X_test)"
   ]
  },
  {
   "cell_type": "code",
   "execution_count": 6,
   "metadata": {
    "tags": []
   },
   "outputs": [
    {
     "output_type": "stream",
     "name": "stdout",
     "text": "[[27.3        24.41      ]\n [54.4        49.40333333]\n [22.         24.14      ]\n [11.6        15.09      ]\n [45.4        81.042     ]\n [23.         29.59      ]\n [21.8        26.83      ]\n [32.2        35.96      ]\n [37.4        40.01      ]\n [22.6        18.31      ]\n [17.4        15.43      ]\n [36.8        37.68      ]\n [23.1        25.33      ]\n [36.9        48.99833333]\n [56.3        53.31      ]\n [20.9        25.46      ]\n [43.5        80.772     ]\n [40.3        46.82      ]\n [27.7        26.88      ]\n [42.1        50.48      ]\n [46.6        40.31      ]\n [21.8        23.79      ]\n [38.1        36.54      ]\n [53.7        55.49      ]\n [57.1        49.07      ]\n [26.6        25.54      ]\n [32.1        27.22      ]\n [56.8        51.69      ]\n [43.1        47.74      ]\n [16.7        15.4       ]\n [33.4        27.47      ]\n [34.2        37.55      ]\n [39.6        42.11      ]\n [52.5        51.72      ]\n [47.1        47.85      ]\n [13.         15.94666667]\n [37.5        38.18      ]\n [32.5        42.37      ]\n [42.3        41.34      ]\n [20.5        14.9       ]\n [40.3        38.6       ]\n [16.1        14.85      ]\n [58.1        60.61      ]\n [33.4        30.92      ]\n [30.8        27.99      ]\n [21.7        26.09      ]\n [20.9        25.38      ]\n [42.5        42.26      ]\n [38.1        43.09      ]\n [39.6        35.8       ]\n [18.6        16.04666667]\n [44.3        62.08      ]\n [39.7        44.04      ]\n [15.4        15.94666667]\n [50.8        45.69666667]\n [36.3        41.18      ]\n [52.2        80.772     ]\n [37.8        45.08      ]\n [26.5        39.07      ]\n [42.5        39.6       ]\n [12.8        14.        ]\n [32.9        34.76      ]\n [29.4        27.85      ]\n [19.2        15.94666667]\n [42.6        37.21      ]\n [32.4        49.7       ]\n [42.7        63.26      ]\n [42.3        43.47      ]\n [15.9        15.94666667]\n [43.9        38.21      ]\n [44.5        52.12      ]\n [15.5        15.67      ]\n [29.8        34.52      ]\n [24.5        33.7       ]\n [50.         53.37      ]\n [37.2        30.22      ]\n [30.9        33.8       ]\n [37.         40.97      ]\n [33.1        32.63      ]\n [59.6        49.64      ]\n [40.8        44.73      ]\n [52.2        45.56283333]\n [47.1        42.        ]]\n"
    }
   ],
   "source": [
    "print(np.concatenate((y_test.reshape(len(y_test), 1), y_pred.reshape(len(y_pred), 1)), 1))"
   ]
  }
 ]
}