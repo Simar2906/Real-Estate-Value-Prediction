{
 "metadata": {
  "language_info": {
   "codemirror_mode": {
    "name": "ipython",
    "version": 3
   },
   "file_extension": ".py",
   "mimetype": "text/x-python",
   "name": "python",
   "nbconvert_exporter": "python",
   "pygments_lexer": "ipython3",
   "version": 3
  },
  "orig_nbformat": 2,
  "kernelspec": {
   "name": "python_defaultSpec_1595432307184",
   "display_name": "Python 3.8.0 64-bit"
  }
 },
 "nbformat": 4,
 "nbformat_minor": 2,
 "cells": [
  {
   "cell_type": "markdown",
   "metadata": {},
   "source": [
    "# Multiple Linear Regression"
   ]
  },
  {
   "cell_type": "markdown",
   "metadata": {},
   "source": [
    "## Importing the Libraries"
   ]
  },
  {
   "cell_type": "code",
   "execution_count": 1,
   "metadata": {},
   "outputs": [],
   "source": [
    "import pandas as pd\n",
    "import numpy as np\n",
    "import matplotlib.pyplot as plt"
   ]
  },
  {
   "cell_type": "markdown",
   "metadata": {},
   "source": [
    "## Importing the Dataset"
   ]
  },
  {
   "cell_type": "code",
   "execution_count": 2,
   "metadata": {},
   "outputs": [],
   "source": [
    "dataset = pd.read_csv('datasets_88705_204267_Real estate.csv')\n",
    "X = dataset.iloc[:, 1:-1].values #Independent Data\n",
    "y = dataset.iloc[:, -1].values   #Dependent Data"
   ]
  },
  {
   "cell_type": "markdown",
   "metadata": {},
   "source": [
    "## Splitting the DataSet into Test set and Training Set"
   ]
  },
  {
   "cell_type": "code",
   "execution_count": 3,
   "metadata": {},
   "outputs": [],
   "source": [
    "from sklearn.model_selection import train_test_split\n",
    "X_train, X_test, y_train, y_test = train_test_split(X, y, test_size = 0.2, random_state = 1) #splitting into test and train set"
   ]
  },
  {
   "cell_type": "markdown",
   "metadata": {},
   "source": [
    "## Training model on Multiple Linear Regression"
   ]
  },
  {
   "cell_type": "code",
   "execution_count": 4,
   "metadata": {},
   "outputs": [
    {
     "output_type": "execute_result",
     "data": {
      "text/plain": "LinearRegression()"
     },
     "metadata": {},
     "execution_count": 4
    }
   ],
   "source": [
    "from sklearn.linear_model import LinearRegression\n",
    "regressor = LinearRegression()\n",
    "regressor.fit(X_train, y_train) #training "
   ]
  },
  {
   "cell_type": "markdown",
   "metadata": {},
   "source": [
    "## Testing model on Test Set"
   ]
  },
  {
   "cell_type": "code",
   "execution_count": 5,
   "metadata": {},
   "outputs": [],
   "source": [
    "y_pred = regressor.predict(X_test) #making prediction array from trained model"
   ]
  },
  {
   "cell_type": "code",
   "execution_count": 6,
   "metadata": {
    "tags": []
   },
   "outputs": [
    {
     "output_type": "stream",
     "name": "stdout",
     "text": "[[27.3        34.79742428]\n [54.4        47.46521888]\n [22.         20.92649905]\n [11.6        12.44066887]\n [45.4        42.96379361]\n [23.         34.74573027]\n [21.8        31.04247971]\n [32.2        45.54751177]\n [37.4        37.82067836]\n [22.6        13.75947347]\n [17.4        11.93297924]\n [36.8        38.39381127]\n [23.1        31.93092108]\n [36.9        45.46667102]\n [56.3        50.93522403]\n [20.9        36.30036154]\n [43.5        44.39307916]\n [40.3        45.09388121]\n [27.7        29.88922181]\n [42.1        43.9352825 ]\n [46.6        51.50141664]\n [21.8        28.29865035]\n [38.1        40.17210353]\n [53.7        46.98674853]\n [57.1        45.65710115]\n [26.6        27.92775475]\n [32.1        30.98685655]\n [56.8        47.60814939]\n [43.1        46.06040453]\n [16.7        15.1867402 ]\n [33.4        33.78086918]\n [34.2        34.84166227]\n [39.6        42.27618027]\n [52.5        44.84930889]\n [47.1        48.12439262]\n [13.         12.87264524]\n [37.5        41.12137596]\n [32.5        41.15743598]\n [42.3        39.01226777]\n [20.5        13.32063367]\n [40.3        38.96468765]\n [16.1        24.28892917]\n [58.1        54.5683122 ]\n [33.4        36.63436327]\n [30.8        35.05528108]\n [21.7        38.90466568]\n [20.9        30.86413555]\n [42.5        39.74778575]\n [38.1        45.97577573]\n [39.6        34.40090764]\n [18.6        11.46829234]\n [44.3        44.47815665]\n [39.7        45.13134611]\n [15.4        14.03091125]\n [50.8        48.87082594]\n [36.3        42.43173988]\n [52.2        44.39307916]\n [37.8        39.3848415 ]\n [26.5        38.1082736 ]\n [42.5        39.59258161]\n [12.8        25.20621826]\n [32.9        40.08960644]\n [29.4        35.34085094]\n [19.2        12.87264524]\n [42.6        40.23555771]\n [32.4        45.14546308]\n [42.7        39.4604025 ]\n [42.3        47.00295886]\n [15.9        14.0558439 ]\n [43.9        40.35962466]\n [44.5        47.76702932]\n [15.5         8.98079589]\n [29.8        33.77409382]\n [24.5        39.51170144]\n [50.         49.58073643]\n [37.2        37.989856  ]\n [30.9        35.89960722]\n [37.         38.47994405]\n [33.1        40.94848531]\n [59.6        48.04861061]\n [40.8        45.80145042]\n [52.2        40.97086777]\n [47.1        45.93706599]]\n"
    }
   ],
   "source": [
    "print(np.concatenate((y_test.reshape(len(y_test), 1), y_pred.reshape(len(y_pred), 1)), 1))"
   ]
  }
 ]
}