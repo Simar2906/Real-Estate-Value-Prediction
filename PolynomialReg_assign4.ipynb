{
 "metadata": {
  "language_info": {
   "codemirror_mode": {
    "name": "ipython",
    "version": 3
   },
   "file_extension": ".py",
   "mimetype": "text/x-python",
   "name": "python",
   "nbconvert_exporter": "python",
   "pygments_lexer": "ipython3",
   "version": 3
  },
  "orig_nbformat": 2,
  "kernelspec": {
   "name": "python_defaultSpec_1595432959091",
   "display_name": "Python 3.8.0 64-bit"
  }
 },
 "nbformat": 4,
 "nbformat_minor": 2,
 "cells": [
  {
   "cell_type": "markdown",
   "metadata": {},
   "source": [
    "## Importing the Libraries"
   ]
  },
  {
   "cell_type": "code",
   "execution_count": 26,
   "metadata": {},
   "outputs": [],
   "source": [
    "import numpy as np\n",
    "import pandas as pd\n",
    "import matplotlib.pyplot as plt"
   ]
  },
  {
   "cell_type": "markdown",
   "metadata": {},
   "source": [
    "## Importing the Dataset"
   ]
  },
  {
   "cell_type": "code",
   "execution_count": 27,
   "metadata": {},
   "outputs": [],
   "source": [
    "dataset = pd.read_csv('datasets_88705_204267_Real estate.csv')\n",
    "X = dataset.iloc[:, 1:-1].values #Independent Data\n",
    "y = dataset.iloc[:, -1].values   #Dependent Data"
   ]
  },
  {
   "cell_type": "markdown",
   "metadata": {},
   "source": [
    "## Splitting the DataSet into Test set and Train Set"
   ]
  },
  {
   "cell_type": "code",
   "execution_count": 28,
   "metadata": {},
   "outputs": [],
   "source": [
    "from sklearn.model_selection import train_test_split\n",
    "X_train, X_test, y_train, y_test = train_test_split(X, y, test_size = 0.2, random_state = 1)"
   ]
  },
  {
   "cell_type": "markdown",
   "metadata": {},
   "source": [
    "## Training Polynomial Regression on Train Set"
   ]
  },
  {
   "cell_type": "code",
   "execution_count": 32,
   "metadata": {},
   "outputs": [
    {
     "output_type": "execute_result",
     "data": {
      "text/plain": "LinearRegression()"
     },
     "metadata": {},
     "execution_count": 32
    }
   ],
   "source": [
    "from sklearn.preprocessing import PolynomialFeatures\n",
    "from sklearn.linear_model import LinearRegression\n",
    "\n",
    "poly_reg = PolynomialFeatures(degree = 4)\n",
    "X_poly = poly_reg.fit_transform(X_train)\n",
    "\n",
    "lin_reg = LinearRegression()\n",
    "lin_reg.fit(X_poly, y_train)"
   ]
  },
  {
   "cell_type": "markdown",
   "metadata": {},
   "source": [
    "## Testing On Test Set"
   ]
  },
  {
   "cell_type": "code",
   "execution_count": 40,
   "metadata": {
    "tags": []
   },
   "outputs": [],
   "source": [
    "y_pred = lin_reg.predict(poly_reg.fit_transform(X_test)) #making prediction array from trained model"
   ]
  },
  {
   "cell_type": "code",
   "execution_count": 39,
   "metadata": {
    "tags": []
   },
   "outputs": [
    {
     "output_type": "stream",
     "name": "stdout",
     "text": "[[27.3        19.53376497]\n [54.4        50.55837274]\n [22.         31.54434779]\n [11.6        15.84034443]\n [45.4        68.23981598]\n [23.         28.96863256]\n [21.8        24.56742693]\n [32.2        37.75969073]\n [37.4        33.79300204]\n [22.6        48.37685093]\n [17.4        36.65074624]\n [36.8        34.59908278]\n [23.1        24.29493181]\n [36.9        35.62718324]\n [56.3        54.77775134]\n [20.9        27.01290679]\n [43.5        75.52781436]\n [40.3        49.03093286]\n [27.7        23.28260553]\n [42.1        43.96234785]\n [46.6        38.77148475]\n [21.8        28.52544226]\n [38.1        35.03778449]\n [53.7        54.42808397]\n [57.1        46.79470427]\n [26.6        27.33888866]\n [32.1        28.72251198]\n [56.8        52.09772861]\n [43.1        48.97124203]\n [16.7        17.02130662]\n [33.4        36.5107763 ]\n [34.2        45.34495552]\n [39.6        48.73767272]\n [52.5        44.46443838]\n [47.1        48.91478534]\n [13.         13.94031706]\n [37.5        39.63732481]\n [32.5        39.21560021]\n [42.3        40.32348849]\n [20.5        16.25877023]\n [40.3        32.03987312]\n [16.1        16.29523189]\n [58.1        61.53958584]\n [33.4        29.06606734]\n [30.8        29.24609454]\n [21.7        25.8350009 ]\n [20.9        25.79297529]\n [42.5        40.36492257]\n [38.1        37.55043599]\n [39.6        46.47253951]\n [18.6        15.41005364]\n [44.3        66.39681216]\n [39.7        43.05152285]\n [15.4        17.7464336 ]\n [50.8        47.43653944]\n [36.3        33.40056896]\n [52.2        75.52781436]\n [37.8        42.76119904]\n [26.5        36.00842543]\n [42.5        38.08755028]\n [12.8        16.76122034]\n [32.9        35.46903336]\n [29.4        28.76667401]\n [19.2        13.94031706]\n [42.6        44.09664637]\n [32.4        53.17978555]\n [42.7        73.51852742]\n [42.3        33.20672089]\n [15.9        17.8810731 ]\n [43.9        41.32285611]\n [44.5        53.50807081]\n [15.5         9.68798046]\n [29.8        38.94170976]\n [24.5        35.20838027]\n [50.         53.27566446]\n [37.2        33.18634008]\n [30.9        30.56449638]\n [37.         39.426001  ]\n [33.1        42.87396038]\n [59.6        51.48302387]\n [40.8        37.82154655]\n [52.2        47.09555016]\n [47.1        31.84288971]]\n"
    }
   ],
   "source": [
    "print(np.concatenate((y_test.reshape(len(y_test), 1), y_pred.reshape(len(y_pred), 1)), 1))"
   ]
  },
  {
   "cell_type": "code",
   "execution_count": null,
   "metadata": {},
   "outputs": [],
   "source": []
  }
 ]
}