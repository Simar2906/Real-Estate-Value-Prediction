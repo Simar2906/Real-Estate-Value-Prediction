{
 "metadata": {
  "language_info": {
   "codemirror_mode": {
    "name": "ipython",
    "version": 3
   },
   "file_extension": ".py",
   "mimetype": "text/x-python",
   "name": "python",
   "nbconvert_exporter": "python",
   "pygments_lexer": "ipython3",
   "version": 3
  },
  "orig_nbformat": 2,
  "kernelspec": {
   "name": "python_defaultSpec_1595432959152",
   "display_name": "Python 3.8.0 64-bit"
  }
 },
 "nbformat": 4,
 "nbformat_minor": 2,
 "cells": [
  {
   "cell_type": "markdown",
   "metadata": {},
   "source": [
    "## Importing the Libraries"
   ]
  },
  {
   "cell_type": "code",
   "execution_count": 6,
   "metadata": {},
   "outputs": [],
   "source": [
    "import pandas as pd\n",
    "import numpy as np\n",
    "import matplotlib.pyplot as plt"
   ]
  },
  {
   "cell_type": "markdown",
   "metadata": {},
   "source": [
    "## Importing the Dataset"
   ]
  },
  {
   "cell_type": "code",
   "execution_count": 7,
   "metadata": {},
   "outputs": [],
   "source": [
    "dataset = pd.read_csv('datasets_88705_204267_Real estate.csv')\n",
    "X = dataset.iloc[:, 1:-1].values\n",
    "y = dataset.iloc[:, -1].values"
   ]
  },
  {
   "cell_type": "markdown",
   "metadata": {},
   "source": [
    "### Reshaping the Dependent Variable"
   ]
  },
  {
   "cell_type": "markdown",
   "metadata": {},
   "source": []
  },
  {
   "cell_type": "code",
   "execution_count": 8,
   "metadata": {},
   "outputs": [],
   "source": [
    "y = y.reshape(len(y), 1)"
   ]
  },
  {
   "cell_type": "markdown",
   "metadata": {},
   "source": [
    "## Feature Scaling"
   ]
  },
  {
   "cell_type": "code",
   "execution_count": 9,
   "metadata": {},
   "outputs": [],
   "source": [
    "from sklearn.preprocessing import StandardScaler\n",
    "sc_X = StandardScaler()\n",
    "sc_y = StandardScaler()\n",
    "X = sc_X.fit_transform(X)\n",
    "y = sc_y.fit_transform(y)"
   ]
  },
  {
   "cell_type": "markdown",
   "metadata": {},
   "source": [
    "## Splitting the Data into Test set and training set"
   ]
  },
  {
   "cell_type": "code",
   "execution_count": 10,
   "metadata": {},
   "outputs": [],
   "source": [
    "from sklearn.model_selection import train_test_split\n",
    "X_train, X_test, y_train, y_test = train_test_split(X, y, test_size = 0.2, random_state = 1)"
   ]
  },
  {
   "cell_type": "markdown",
   "metadata": {},
   "source": [
    "## Training SVR on Train Set"
   ]
  },
  {
   "cell_type": "code",
   "execution_count": 11,
   "metadata": {},
   "outputs": [
    {
     "output_type": "execute_result",
     "data": {
      "text/plain": "SVR()"
     },
     "metadata": {},
     "execution_count": 11
    }
   ],
   "source": [
    "from sklearn.svm import SVR\n",
    "regressor = SVR(kernel = 'rbf')\n",
    "regressor.fit(X_train, y_train)"
   ]
  },
  {
   "cell_type": "markdown",
   "metadata": {},
   "source": [
    "## Predicting the values and comparing with Test Set"
   ]
  },
  {
   "cell_type": "code",
   "execution_count": 12,
   "metadata": {},
   "outputs": [],
   "source": [
    "y_pred = regressor.predict(X_test) #making prediction array from trained model"
   ]
  },
  {
   "cell_type": "code",
   "execution_count": 16,
   "metadata": {
    "tags": []
   },
   "outputs": [
    {
     "output_type": "stream",
     "name": "stdout",
     "text": "[[-0.78588359 -0.81725253]\n [ 1.20822315  0.85861188]\n [-1.17587495 -1.04068885]\n [-1.94114101 -1.58486715]\n [ 0.54597368  0.66170185]\n [-1.10229167 -0.80994348]\n [-1.1905916  -1.05722385]\n [-0.42532555 -0.04243333]\n [-0.04269252 -0.00234115]\n [-1.13172498 -1.31158395]\n [-1.51435801 -1.84232938]\n [-0.08684248  0.01388227]\n [-1.09493335 -0.97080919]\n [-0.07948416  0.70369638]\n [ 1.34803137  1.23392298]\n [-1.25681655 -0.82283999]\n [ 0.40616546  0.74055319]\n [ 0.17069898  0.69164045]\n [-0.75645028 -1.01961031]\n [ 0.30314887  0.57394528]\n [ 0.63427361  0.76281593]\n [-1.1905916  -1.0280624 ]\n [ 0.00881577  0.2003695 ]\n [ 1.15671486  1.03544234]\n [ 1.40689799  0.76049167]\n [-0.83739188 -1.19026793]\n [-0.43268387 -0.59843667]\n [ 1.38482301  1.01481811]\n [ 0.37673215  0.96591251]\n [-1.5658663  -1.42801707]\n [-0.33702562 -0.49542264]\n [-0.278159    0.0149576 ]\n [ 0.11919069  0.31767713]\n [ 1.06841493  0.64403319]\n [ 0.67106525  0.76040212]\n [-1.83812442 -1.46618506]\n [-0.03533419  0.11521656]\n [-0.40325056  0.27252927]\n [ 0.31786553  0.19029834]\n [-1.28624986 -1.63720974]\n [ 0.17069898 -0.08368283]\n [-1.61001627 -1.50958603]\n [ 1.48048127  1.44514056]\n [-0.33702562 -0.64182841]\n [-0.52834213 -0.7733615 ]\n [-1.19794993 -0.49955455]\n [-1.25681655 -0.88728887]\n [ 0.33258218  0.05485364]\n [ 0.00881577  0.4151924 ]\n [ 0.11919069  0.1111049 ]\n [-1.42605808 -1.44133388]\n [ 0.46503208  0.45637232]\n [ 0.12654901  0.17095202]\n [-1.66152456 -1.522057  ]\n [ 0.94332336  0.93607901]\n [-0.12363412  0.26708497]\n [ 1.04633995  0.74055319]\n [-0.01325921 -0.04971459]\n [-0.84475021  0.03501969]\n [ 0.33258218  0.12026179]\n [-1.85284108 -1.4730012 ]\n [-0.37381725  0.25457676]\n [-0.63135872 -0.87118523]\n [-1.38190812 -1.46618506]\n [ 0.33994051  0.23626001]\n [-0.41060889  0.41025256]\n [ 0.34729884  0.49246267]\n [ 0.31786553  0.51654823]\n [-1.62473292 -1.51901683]\n [ 0.43559877  0.24842626]\n [ 0.47974873  0.92695523]\n [-1.65416623 -1.75621186]\n [-0.60192541 -0.02708594]\n [-0.99191676 -0.13974436]\n [ 0.88445674  1.03640393]\n [-0.05740917 -0.04781314]\n [-0.5209838  -0.18988788]\n [-0.07212583 -0.13216143]\n [-0.3591006   0.37151512]\n [ 1.59085618  0.876793  ]\n [ 0.20749062  0.68833522]\n [ 1.04633995  0.43747605]\n [ 0.67106525  0.17281116]]\n"
    }
   ],
   "source": [
    "print(np.concatenate((y_test, y_pred.reshape(len(y_pred), 1)), 1))"
   ]
  }
 ]
}